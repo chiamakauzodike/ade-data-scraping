{
 "cells": [
  {
   "cell_type": "markdown",
   "metadata": {},
   "source": [
    "Transformation Layer\n"
   ]
  },
  {
   "cell_type": "code",
   "execution_count": 2,
   "metadata": {},
   "outputs": [],
   "source": [
    "import pandas as pd\n",
    "import pymysql \n",
    "from sqlalchemy import create_engine"
   ]
  },
  {
   "cell_type": "code",
   "execution_count": 4,
   "metadata": {},
   "outputs": [
    {
     "data": {
      "text/html": [
       "<div>\n",
       "<style scoped>\n",
       "    .dataframe tbody tr th:only-of-type {\n",
       "        vertical-align: middle;\n",
       "    }\n",
       "\n",
       "    .dataframe tbody tr th {\n",
       "        vertical-align: top;\n",
       "    }\n",
       "\n",
       "    .dataframe thead th {\n",
       "        text-align: right;\n",
       "    }\n",
       "</style>\n",
       "<table border=\"1\" class=\"dataframe\">\n",
       "  <thead>\n",
       "    <tr style=\"text-align: right;\">\n",
       "      <th></th>\n",
       "      <th>Rank</th>\n",
       "      <th>Institution</th>\n",
       "      <th>City</th>\n",
       "      <th>Country</th>\n",
       "      <th>Continent</th>\n",
       "      <th>Founded</th>\n",
       "      <th>Affiliation</th>\n",
       "      <th>AttendanceMode</th>\n",
       "      <th>Enrollment</th>\n",
       "      <th>Link</th>\n",
       "    </tr>\n",
       "  </thead>\n",
       "  <tbody>\n",
       "    <tr>\n",
       "      <th>0</th>\n",
       "      <td>1</td>\n",
       "      <td>Indira Gandhi National Open University</td>\n",
       "      <td>New Delhi</td>\n",
       "      <td>India</td>\n",
       "      <td>Asia</td>\n",
       "      <td>1985</td>\n",
       "      <td>Public</td>\n",
       "      <td>Distance/In-Person</td>\n",
       "      <td>7140000</td>\n",
       "      <td>https://en.wikipedia.org/wiki/Indira_Gandhi_Na...</td>\n",
       "    </tr>\n",
       "    <tr>\n",
       "      <th>1</th>\n",
       "      <td>2</td>\n",
       "      <td>National University, Bangladesh</td>\n",
       "      <td>Gazipur</td>\n",
       "      <td>Bangladesh</td>\n",
       "      <td>Asia</td>\n",
       "      <td>1992</td>\n",
       "      <td>Public</td>\n",
       "      <td>In-Person</td>\n",
       "      <td>3425832</td>\n",
       "      <td>https://en.wikipedia.org/wiki/National_Univers...</td>\n",
       "    </tr>\n",
       "    <tr>\n",
       "      <th>2</th>\n",
       "      <td>3</td>\n",
       "      <td>Anadolu University</td>\n",
       "      <td>Eskişehir</td>\n",
       "      <td>Turkey</td>\n",
       "      <td>Asia</td>\n",
       "      <td>1958</td>\n",
       "      <td>Public</td>\n",
       "      <td>Distance/In-Person</td>\n",
       "      <td>1974343</td>\n",
       "      <td>https://en.wikipedia.org/wiki/Anadolu_University</td>\n",
       "    </tr>\n",
       "    <tr>\n",
       "      <th>3</th>\n",
       "      <td>4</td>\n",
       "      <td>California Community Colleges</td>\n",
       "      <td>California</td>\n",
       "      <td>United States</td>\n",
       "      <td>North America</td>\n",
       "      <td>1967</td>\n",
       "      <td>Public</td>\n",
       "      <td>In-Person</td>\n",
       "      <td>1800000</td>\n",
       "      <td>https://en.wikipedia.org/wiki/California_Commu...</td>\n",
       "    </tr>\n",
       "    <tr>\n",
       "      <th>4</th>\n",
       "      <td>5</td>\n",
       "      <td>Islamic Azad University</td>\n",
       "      <td>Iran</td>\n",
       "      <td>Iran</td>\n",
       "      <td>Asia</td>\n",
       "      <td>1982</td>\n",
       "      <td>Private</td>\n",
       "      <td>In-Person</td>\n",
       "      <td>1778000</td>\n",
       "      <td>https://en.wikipedia.org/wiki/Islamic_Azad_Uni...</td>\n",
       "    </tr>\n",
       "  </tbody>\n",
       "</table>\n",
       "</div>"
      ],
      "text/plain": [
       "   Rank                             Institution        City        Country  \\\n",
       "0     1  Indira Gandhi National Open University   New Delhi          India   \n",
       "1     2         National University, Bangladesh     Gazipur     Bangladesh   \n",
       "2     3                      Anadolu University   Eskişehir         Turkey   \n",
       "3     4           California Community Colleges  California  United States   \n",
       "4     5                 Islamic Azad University        Iran           Iran   \n",
       "\n",
       "       Continent  Founded Affiliation      AttendanceMode  Enrollment  \\\n",
       "0           Asia     1985      Public  Distance/In-Person     7140000   \n",
       "1           Asia     1992      Public           In-Person     3425832   \n",
       "2           Asia     1958      Public  Distance/In-Person     1974343   \n",
       "3  North America     1967      Public           In-Person     1800000   \n",
       "4           Asia     1982     Private           In-Person     1778000   \n",
       "\n",
       "                                                Link  \n",
       "0  https://en.wikipedia.org/wiki/Indira_Gandhi_Na...  \n",
       "1  https://en.wikipedia.org/wiki/National_Univers...  \n",
       "2   https://en.wikipedia.org/wiki/Anadolu_University  \n",
       "3  https://en.wikipedia.org/wiki/California_Commu...  \n",
       "4  https://en.wikipedia.org/wiki/Islamic_Azad_Uni...  "
      ]
     },
     "execution_count": 4,
     "metadata": {},
     "output_type": "execute_result"
    }
   ],
   "source": [
    "df = pd.read_csv(\"universities-clean.csv\")\n",
    "df.head()"
   ]
  },
  {
   "cell_type": "code",
   "execution_count": 5,
   "metadata": {},
   "outputs": [
    {
     "name": "stdout",
     "output_type": "stream",
     "text": [
      "<class 'pandas.core.frame.DataFrame'>\n",
      "RangeIndex: 90 entries, 0 to 89\n",
      "Data columns (total 10 columns):\n",
      " #   Column          Non-Null Count  Dtype \n",
      "---  ------          --------------  ----- \n",
      " 0   Rank            90 non-null     int64 \n",
      " 1   Institution     90 non-null     object\n",
      " 2   City            90 non-null     object\n",
      " 3   Country         90 non-null     object\n",
      " 4   Continent       90 non-null     object\n",
      " 5   Founded         90 non-null     int64 \n",
      " 6   Affiliation     90 non-null     object\n",
      " 7   AttendanceMode  90 non-null     object\n",
      " 8   Enrollment      90 non-null     int64 \n",
      " 9   Link            90 non-null     object\n",
      "dtypes: int64(3), object(7)\n",
      "memory usage: 7.2+ KB\n"
     ]
    }
   ],
   "source": [
    "df.info()"
   ]
  },
  {
   "cell_type": "code",
   "execution_count": null,
   "metadata": {},
   "outputs": [],
   "source": []
  },
  {
   "cell_type": "code",
   "execution_count": 6,
   "metadata": {},
   "outputs": [],
   "source": [
    "# Create dim_institution\n",
    "dim_institution = df[['Institution', 'Affiliation', 'AttendanceMode', 'Founded', 'Link']].drop_duplicates().reset_index(drop=True)\n",
    "dim_institution['institution_id'] = dim_institution.index + 1"
   ]
  },
  {
   "cell_type": "code",
   "execution_count": 7,
   "metadata": {},
   "outputs": [],
   "source": [
    "# Create dim_location\n",
    "dim_location = df[['City', 'Country', 'Continent']].drop_duplicates().reset_index(drop=True)\n",
    "dim_location['location_id'] = dim_location.index + 1"
   ]
  },
  {
   "cell_type": "code",
   "execution_count": 8,
   "metadata": {},
   "outputs": [],
   "source": [
    "# Merge keys into original DataFrame\n",
    "df = df.merge(dim_institution, on=['Institution', 'Affiliation', 'AttendanceMode', 'Founded', 'Link'], how='left')\n",
    "df = df.merge(dim_location, on=['City', 'Country', 'Continent'], how='left')"
   ]
  },
  {
   "cell_type": "code",
   "execution_count": 9,
   "metadata": {},
   "outputs": [],
   "source": [
    "# Create fact_university_ranking\n",
    "fact_university_ranking = df[['Rank', 'Enrollment', 'institution_id', 'location_id']].copy()\n",
    "fact_university_ranking['id'] = fact_university_ranking.index + 1  # Optional primary key\n"
   ]
  },
  {
   "cell_type": "code",
   "execution_count": 10,
   "metadata": {},
   "outputs": [],
   "source": [
    "# Reorder columns\n",
    "fact_university_ranking = fact_university_ranking[['id', 'Rank', 'institution_id', 'location_id', 'Enrollment']]"
   ]
  },
  {
   "cell_type": "code",
   "execution_count": 11,
   "metadata": {},
   "outputs": [
    {
     "name": "stdout",
     "output_type": "stream",
     "text": [
      "📘 dim_institution:\n",
      "                              Institution Affiliation      AttendanceMode  \\\n",
      "0  Indira Gandhi National Open University      Public  Distance/In-Person   \n",
      "1         National University, Bangladesh      Public           In-Person   \n",
      "2                      Anadolu University      Public  Distance/In-Person   \n",
      "3           California Community Colleges      Public           In-Person   \n",
      "4                 Islamic Azad University     Private           In-Person   \n",
      "\n",
      "   Founded                                               Link  institution_id  \n",
      "0     1985  https://en.wikipedia.org/wiki/Indira_Gandhi_Na...               1  \n",
      "1     1992  https://en.wikipedia.org/wiki/National_Univers...               2  \n",
      "2     1958   https://en.wikipedia.org/wiki/Anadolu_University               3  \n",
      "3     1967  https://en.wikipedia.org/wiki/California_Commu...               4  \n",
      "4     1982  https://en.wikipedia.org/wiki/Islamic_Azad_Uni...               5  \n"
     ]
    }
   ],
   "source": [
    "print(\"📘 dim_institution:\")\n",
    "print(dim_institution.head())"
   ]
  },
  {
   "cell_type": "code",
   "execution_count": 12,
   "metadata": {},
   "outputs": [
    {
     "name": "stdout",
     "output_type": "stream",
     "text": [
      "\n",
      "🌍 dim_location:\n",
      "         City        Country      Continent  location_id\n",
      "0   New Delhi          India           Asia            1\n",
      "1     Gazipur     Bangladesh           Asia            2\n",
      "2   Eskişehir         Turkey           Asia            3\n",
      "3  California  United States  North America            4\n",
      "4        Iran           Iran           Asia            5\n"
     ]
    }
   ],
   "source": [
    "print(\"\\n🌍 dim_location:\")\n",
    "print(dim_location.head())"
   ]
  },
  {
   "cell_type": "code",
   "execution_count": 13,
   "metadata": {},
   "outputs": [
    {
     "name": "stdout",
     "output_type": "stream",
     "text": [
      "\n",
      "📊 fact_university_ranking:\n",
      "   id  Rank  institution_id  location_id  Enrollment\n",
      "0   1     1               1            1     7140000\n",
      "1   2     2               2            2     3425832\n",
      "2   3     3               3            3     1974343\n",
      "3   4     4               4            4     1800000\n",
      "4   5     5               5            5     1778000\n"
     ]
    }
   ],
   "source": [
    "print(\"\\n📊 fact_university_ranking:\")\n",
    "print(fact_university_ranking.head())"
   ]
  },
  {
   "cell_type": "code",
   "execution_count": 14,
   "metadata": {},
   "outputs": [],
   "source": [
    "dim_institution.to_csv(\"dim_institution.csv\", index=False)\n",
    "dim_location.to_csv(\"dim_location.csv\", index=False)\n",
    "fact_university_ranking.to_csv(\"fact_university_ranking.csv\", index=False)"
   ]
  },
  {
   "cell_type": "code",
   "execution_count": null,
   "metadata": {},
   "outputs": [],
   "source": []
  }
 ],
 "metadata": {
  "kernelspec": {
   "display_name": "venv",
   "language": "python",
   "name": "python3"
  },
  "language_info": {
   "codemirror_mode": {
    "name": "ipython",
    "version": 3
   },
   "file_extension": ".py",
   "mimetype": "text/x-python",
   "name": "python",
   "nbconvert_exporter": "python",
   "pygments_lexer": "ipython3",
   "version": "3.12.7"
  }
 },
 "nbformat": 4,
 "nbformat_minor": 2
}
